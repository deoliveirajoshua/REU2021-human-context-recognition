{
 "cells": [
  {
   "cell_type": "markdown",
   "id": "3628270f",
   "metadata": {},
   "source": [
    "# Import Modules"
   ]
  },
  {
   "cell_type": "code",
   "execution_count": 11,
   "id": "e42bec69",
   "metadata": {},
   "outputs": [],
   "source": [
    "import torch\n",
    "import time\n",
    "import sys\n",
    "import pandas as pd\n",
    "import numpy as np\n",
    "import torch.nn as nn\n",
    "from sklearn.linear_model import LogisticRegression\n",
    "from sklearn.model_selection import train_test_split\n",
    "from sklearn import metrics"
   ]
  },
  {
   "cell_type": "code",
   "execution_count": 2,
   "id": "acb4641d",
   "metadata": {},
   "outputs": [],
   "source": [
    "##load and scale data\n",
    "#returns scaled data (X) and labels (Y)\n",
    "#file_name: string, file with data to be used\n",
    "#label: array, list of activities to use\n",
    "#users: array, list of users whose data is to be used\n",
    "\n",
    "def start_data(file_name, label, users):\n",
    "    #read csv into dataframe\n",
    "    data = pd.read_csv(file_name)\n",
    "    data = data[data['UUID'].isin(users)]\n",
    "\n",
    "    #seperate only acceleration data\n",
    "    X = data.loc[:,'raw_acc:magnitude_stats:mean':'raw_acc:3d:ro_yz']    \n",
    "    y = data[label]\n",
    "\n",
    "    #seperate only \"on\" labels\n",
    "    X = X[(y!=0).any(axis=1)]\n",
    "    y = y[(y!=0).any(axis=1)]\n",
    "    \n",
    "    #interpolate averages per column\n",
    "    X = interpolation(X).values\n",
    "    y = interpolation(y).values\n",
    "    \n",
    "    #scale the data\n",
    "    from sklearn.preprocessing import StandardScaler\n",
    "    sc = StandardScaler()\n",
    "    X = sc.fit_transform(X)\n",
    "    \n",
    "    return X, y"
   ]
  },
  {
   "cell_type": "markdown",
   "id": "e7a387f2",
   "metadata": {},
   "source": [
    "# Import the Data"
   ]
  },
  {
   "cell_type": "code",
   "execution_count": 3,
   "id": "64d769d0",
   "metadata": {},
   "outputs": [],
   "source": [
    "def interpolation(df):\n",
    "    col_to_avg = list(df.columns) #Start with keeping all the columns as columns to use an average interpolation on\n",
    "    for k in range(len(list(df.columns))):\n",
    "        if list(df.columns)[k].startswith(('discrete', 'label')): #Remove label and discrete columns from col_to_avg\n",
    "            col_to_avg.remove(list(df.columns)[k])\n",
    "    \n",
    "    df_with_avg = df[col_to_avg].fillna(df[col_to_avg].mean()) #Interpolate nan columns for all continuous-valued columns with average\n",
    "    \n",
    "    col_to_zero = list(df.columns)\n",
    "    for k in range(len(list(df.columns))):\n",
    "        if not list(df.columns)[k].startswith(('discrete', 'label')): #Remove all columns except label and discrete\n",
    "            col_to_zero.remove(list(df.columns)[k])\n",
    "    \n",
    "    df_with_zero = df[col_to_zero].fillna(0) #Interpolate nan values for label and discrete columns with 0\n",
    "    \n",
    "    return pd.concat([df_with_avg, df_with_zero], axis = 1)"
   ]
  },
  {
   "cell_type": "markdown",
   "id": "0451b0b7",
   "metadata": {},
   "source": [
    "# Prepare Data"
   ]
  },
  {
   "cell_type": "markdown",
   "id": "725c6abf",
   "metadata": {},
   "source": [
    "# The Generator"
   ]
  },
  {
   "cell_type": "code",
   "execution_count": 15,
   "id": "e4276026",
   "metadata": {},
   "outputs": [],
   "source": [
    "#defines each generator layer\n",
    "#input and output dimensions needed\n",
    "def generator_block(input_dim, output_dim):\n",
    "    return nn.Sequential(\n",
    "        nn.Linear(input_dim, output_dim),\n",
    "        nn.Dropout(0.1),\n",
    "        nn.BatchNorm1d(output_dim),\n",
    "        nn.ReLU(inplace = True)\n",
    "    )\n",
    "\n",
    "#returns n_samples of z_dim (number of dimensions of latent space) noise\n",
    "def get_noise(n_samples, z_dim):\n",
    "    #torch.manual_seed(0)\n",
    "    return torch.randn(n_samples, z_dim)\n",
    "\n",
    "#defines generator class\n",
    "class Generator(nn.Module):\n",
    "    def __init__(self, z_dim = 10, feature_dim = 26, hidden_dim = 128):\n",
    "        super(Generator, self).__init__()\n",
    "        self.gen = nn.Sequential(\n",
    "            generator_block(z_dim, int(hidden_dim/2)),\n",
    "            generator_block(int(hidden_dim/2), int(hidden_dim/4)),\n",
    "            generator_block(int(hidden_dim/4), 30),\n",
    "            generator_block(30, 28),\n",
    "            nn.Linear(28, feature_dim)\n",
    "        )\n",
    "    def forward(self, noise):\n",
    "        return self.gen(noise)\n",
    "\n",
    "##calculates generator loss\n",
    "#gen: generator\n",
    "#disc: discriminator\n",
    "#criterion1: loss function1\n",
    "#criterion2: loss function2\n",
    "#batch_size: batch size\n",
    "#z_dim: number of dimensions in the latent space\n",
    "def get_gen_loss(gen, disc, act, usr, criterion1, criterion2, batch_size, z_dim, activities, users):\n",
    "    latent_vectors = get_noise(batch_size, z_dim)\n",
    "    act_vectors = get_act_matrix(batch_size, activities)\n",
    "    usr_vectors = get_usr_matrix(batch_size, users)\n",
    "    \n",
    "    to_gen = torch.cat((latent_vectors, act_vectors[1].to(device), usr_vectors[1].to(device)), 1)\n",
    "    fake_features = gen(to_gen)\n",
    "    \n",
    "    pred_disc = disc(fake_features.to(device))\n",
    "    pred_act = act(fake_features.to(device)) ### CrossEntropyLoss Criterion automatically applies softmax and torch.max\n",
    "    pred_usr = usr(fake_features.to(device))\n",
    "    \n",
    "    d_loss = criterion1(pred_disc, torch.ones_like(pred_disc))\n",
    "    act_loss = criterion2(pred_act, act_vectors[0].to(device))\n",
    "    usr_loss = criterion2(pred_usr, usr_vectors[0].to(device))\n",
    "    \n",
    "    gen_loss = d_loss + act_loss + usr_loss\n",
    "    return gen_loss\n",
    "    \n",
    "def get_act_matrix(batch_size, a_dim):\n",
    "    indexes = np.random.randint(a_dim, size = batch_size)\n",
    "    #print(indexes)\n",
    "    \n",
    "    one_hot = np.zeros((len(indexes), indexes.max()+1))\n",
    "    one_hot[np.arange(len(indexes)),indexes] = 1\n",
    "    \n",
    "    return torch.Tensor(indexes).long(), torch.Tensor(one_hot)\n",
    "    \n",
    "def get_usr_matrix(batch_size, u_dim):\n",
    "    indexes = np.random.randint(u_dim, size = batch_size)\n",
    "    \n",
    "    one_hot = np.zeros((indexes.size, indexes.max()+1))\n",
    "    one_hot[np.arange(indexes.size),indexes] = 1\n",
    "    \n",
    "    return torch.Tensor(indexes).long(), torch.Tensor(one_hot)\n",
    "\n",
    "def load_model(model, model_name):\n",
    "    model.load_state_dict(torch.load(f'../saved_models/{model_name}'))"
   ]
  },
  {
   "cell_type": "code",
   "execution_count": 27,
   "id": "3bc75f2c",
   "metadata": {},
   "outputs": [
    {
     "name": "stdout",
     "output_type": "stream",
     "text": [
      "(6952, 26)\n",
      "(6952,)\n",
      "(13904, 26)\n",
      "(13904,)\n"
     ]
    }
   ],
   "source": [
    "#Sample from real sitting data\n",
    "X, _ = start_data(\"../aggregated_data/aggregated_data.csv\", [\"label:SITTING\", \"label:FIX_walking\", \"label:SLEEPING\"], [\"0BFC35E2-4817-4865-BFA7-764742302A2D\", \"0A986513-7828-4D53-AA1F-E02D6DF9561B\", \"00EABED2-271D-49D8-B599-1D4A09240601\"])\n",
    "y = np.ones(len(X))\n",
    "\n",
    "X_train, X_test, y_train, y_test = train_test_split(X, y, test_size = 0.2, shuffle = True)\n",
    "print(np.shape(X_train))\n",
    "print(np.shape(y_train))\n",
    "\n",
    "gen = Generator(z_dim = 106)\n",
    "load_model(gen, \"TEST_cGAN_FIX_1_gen\")\n",
    "\n",
    "latent_vectors = get_noise(len(X_train), 100)\n",
    "act_vectors = get_act_matrix(len(X_train), 3)\n",
    "usr_vectors = get_usr_matrix(len(X_train), 3)\n",
    "    \n",
    "to_gen = torch.cat((latent_vectors, act_vectors[1], usr_vectors[1]), 1)\n",
    "fake_features = gen(to_gen).detach().numpy()\n",
    "y_fake = np.zeros(len(X_train))\n",
    "\n",
    "X_train = np.concatenate((fake_features, X_train), axis = 0)\n",
    "y_train = np.concatenate((y_fake, y_train), axis = None)\n",
    "print(np.shape(X_train))\n",
    "print(np.shape(y_train))"
   ]
  },
  {
   "cell_type": "markdown",
   "id": "800a62f9",
   "metadata": {},
   "source": [
    "# Train on Real + Fake, Evaluate on Fake "
   ]
  },
  {
   "cell_type": "code",
   "execution_count": 31,
   "id": "f1d22e4c",
   "metadata": {},
   "outputs": [
    {
     "name": "stdout",
     "output_type": "stream",
     "text": [
      "[[   0    0]\n",
      " [   2 1737]]\n",
      "              precision    recall  f1-score   support\n",
      "\n",
      "         0.0      0.000     0.000     0.000         0\n",
      "         1.0      1.000     0.999     0.999      1739\n",
      "\n",
      "    accuracy                          0.999      1739\n",
      "   macro avg      0.500     0.499     0.500      1739\n",
      "weighted avg      1.000     0.999     0.999      1739\n",
      "\n"
     ]
    },
    {
     "name": "stderr",
     "output_type": "stream",
     "text": [
      "C:\\Users\\jdeoliveira\\anaconda3\\lib\\site-packages\\sklearn\\metrics\\_classification.py:1245: UndefinedMetricWarning: Recall and F-score are ill-defined and being set to 0.0 in labels with no true samples. Use `zero_division` parameter to control this behavior.\n",
      "  _warn_prf(average, modifier, msg_start, len(result))\n",
      "C:\\Users\\jdeoliveira\\anaconda3\\lib\\site-packages\\sklearn\\metrics\\_classification.py:1245: UndefinedMetricWarning: Recall and F-score are ill-defined and being set to 0.0 in labels with no true samples. Use `zero_division` parameter to control this behavior.\n",
      "  _warn_prf(average, modifier, msg_start, len(result))\n",
      "C:\\Users\\jdeoliveira\\anaconda3\\lib\\site-packages\\sklearn\\metrics\\_classification.py:1245: UndefinedMetricWarning: Recall and F-score are ill-defined and being set to 0.0 in labels with no true samples. Use `zero_division` parameter to control this behavior.\n",
      "  _warn_prf(average, modifier, msg_start, len(result))\n"
     ]
    }
   ],
   "source": [
    "classifier = LogisticRegression(penalty = 'l2', C = 0.7)\n",
    "classifier.fit(X_train, y_train)\n",
    "y_pred = classifier.predict(X_test)\n",
    "print(metrics.confusion_matrix(y_test, y_pred))\n",
    "print(metrics.classification_report(y_test, y_pred, digits = 3))                        "
   ]
  },
  {
   "cell_type": "code",
   "execution_count": 16,
   "id": "36a5de16",
   "metadata": {},
   "outputs": [
    {
     "name": "stdout",
     "output_type": "stream",
     "text": [
      "New 9      \r"
     ]
    }
   ],
   "source": [
    "to_print = \"Hello There\"\n",
    "empty = \" \"\n",
    "print(to_print, end = \"\\r\")\n",
    "for i in range(10):\n",
    "    time.sleep(1)\n",
    "    print(empty * len(to_print), end = \"\\r\")\n",
    "    to_print = f\"New {i}\"\n",
    "    print(to_print, end = \"\\r\")"
   ]
  },
  {
   "cell_type": "code",
   "execution_count": null,
   "id": "691c38af",
   "metadata": {},
   "outputs": [],
   "source": []
  }
 ],
 "metadata": {
  "kernelspec": {
   "display_name": "Python 3",
   "language": "python",
   "name": "python3"
  },
  "language_info": {
   "codemirror_mode": {
    "name": "ipython",
    "version": 3
   },
   "file_extension": ".py",
   "mimetype": "text/x-python",
   "name": "python",
   "nbconvert_exporter": "python",
   "pygments_lexer": "ipython3",
   "version": "3.8.8"
  }
 },
 "nbformat": 4,
 "nbformat_minor": 5
}
