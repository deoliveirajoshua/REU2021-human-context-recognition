{
 "cells": [
  {
   "cell_type": "markdown",
   "metadata": {},
   "source": [
    "# Overview"
   ]
  },
  {
   "cell_type": "markdown",
   "metadata": {},
   "source": [
    "This program uses a standard fully-connected neural network with ReLU activations to predict whether a person is sitting based on their accelerometer data."
   ]
  },
  {
   "cell_type": "code",
   "execution_count": 132,
   "metadata": {},
   "outputs": [],
   "source": [
    "import pandas as pd\n",
    "import numpy as np\n",
    "import torch\n",
    "import wandb\n",
    "import torchvision\n",
    "import torch.nn as nn\n",
    "import torch.nn.functional as F\n",
    "import torch.optim as optim\n",
    "import matplotlib.pyplot as plt\n",
    "\n",
    "from torchvision.transforms import transforms\n",
    "from torch.utils.data import DataLoader\n",
    "from torch.utils.data import Dataset\n",
    "\n",
    "dev = \"\"\n",
    "\n",
    "if torch.cuda.is_available():  \n",
    "  dev = \"cuda:0\" \n",
    "else:  \n",
    "  dev = \"cpu\"  \n",
    "device = torch.device(dev)  \n",
    "\n"
   ]
  },
  {
   "cell_type": "markdown",
   "metadata": {},
   "source": [
    "## Loading the data into a Pandas dataframe"
   ]
  },
  {
   "cell_type": "code",
   "execution_count": 27,
   "metadata": {},
   "outputs": [
    {
     "data": {
      "text/html": [
       "<div>\n",
       "<style scoped>\n",
       "    .dataframe tbody tr th:only-of-type {\n",
       "        vertical-align: middle;\n",
       "    }\n",
       "\n",
       "    .dataframe tbody tr th {\n",
       "        vertical-align: top;\n",
       "    }\n",
       "\n",
       "    .dataframe thead th {\n",
       "        text-align: right;\n",
       "    }\n",
       "</style>\n",
       "<table border=\"1\" class=\"dataframe\">\n",
       "  <thead>\n",
       "    <tr style=\"text-align: right;\">\n",
       "      <th></th>\n",
       "      <th>UUID</th>\n",
       "      <th>timestamp</th>\n",
       "      <th>raw_acc:magnitude_stats:mean</th>\n",
       "      <th>raw_acc:magnitude_stats:std</th>\n",
       "      <th>raw_acc:magnitude_stats:moment3</th>\n",
       "      <th>raw_acc:magnitude_stats:moment4</th>\n",
       "      <th>raw_acc:magnitude_stats:percentile25</th>\n",
       "      <th>raw_acc:magnitude_stats:percentile50</th>\n",
       "      <th>raw_acc:magnitude_stats:percentile75</th>\n",
       "      <th>raw_acc:magnitude_stats:value_entropy</th>\n",
       "      <th>...</th>\n",
       "      <th>label:STAIRS_-_GOING_DOWN</th>\n",
       "      <th>label:ELEVATOR</th>\n",
       "      <th>label:OR_standing</th>\n",
       "      <th>label:AT_SCHOOL</th>\n",
       "      <th>label:PHONE_IN_HAND</th>\n",
       "      <th>label:PHONE_IN_BAG</th>\n",
       "      <th>label:PHONE_ON_TABLE</th>\n",
       "      <th>label:WITH_CO-WORKERS</th>\n",
       "      <th>label:WITH_FRIENDS</th>\n",
       "      <th>label_source</th>\n",
       "    </tr>\n",
       "  </thead>\n",
       "  <tbody>\n",
       "    <tr>\n",
       "      <th>0</th>\n",
       "      <td>00EABED2-271D-49D8-B599-1D4A09240601</td>\n",
       "      <td>1444079161</td>\n",
       "      <td>0.996815</td>\n",
       "      <td>0.003529</td>\n",
       "      <td>-0.002786</td>\n",
       "      <td>0.006496</td>\n",
       "      <td>0.995203</td>\n",
       "      <td>0.996825</td>\n",
       "      <td>0.998502</td>\n",
       "      <td>1.748756</td>\n",
       "      <td>...</td>\n",
       "      <td>NaN</td>\n",
       "      <td>NaN</td>\n",
       "      <td>0.0</td>\n",
       "      <td>NaN</td>\n",
       "      <td>NaN</td>\n",
       "      <td>NaN</td>\n",
       "      <td>1.0</td>\n",
       "      <td>1.0</td>\n",
       "      <td>NaN</td>\n",
       "      <td>2</td>\n",
       "    </tr>\n",
       "    <tr>\n",
       "      <th>1</th>\n",
       "      <td>00EABED2-271D-49D8-B599-1D4A09240601</td>\n",
       "      <td>1444079221</td>\n",
       "      <td>0.996864</td>\n",
       "      <td>0.004172</td>\n",
       "      <td>-0.003110</td>\n",
       "      <td>0.007050</td>\n",
       "      <td>0.994957</td>\n",
       "      <td>0.996981</td>\n",
       "      <td>0.998766</td>\n",
       "      <td>1.935573</td>\n",
       "      <td>...</td>\n",
       "      <td>NaN</td>\n",
       "      <td>NaN</td>\n",
       "      <td>0.0</td>\n",
       "      <td>NaN</td>\n",
       "      <td>NaN</td>\n",
       "      <td>NaN</td>\n",
       "      <td>1.0</td>\n",
       "      <td>1.0</td>\n",
       "      <td>NaN</td>\n",
       "      <td>2</td>\n",
       "    </tr>\n",
       "    <tr>\n",
       "      <th>2</th>\n",
       "      <td>00EABED2-271D-49D8-B599-1D4A09240601</td>\n",
       "      <td>1444079281</td>\n",
       "      <td>0.996825</td>\n",
       "      <td>0.003667</td>\n",
       "      <td>0.003094</td>\n",
       "      <td>0.006076</td>\n",
       "      <td>0.994797</td>\n",
       "      <td>0.996614</td>\n",
       "      <td>0.998704</td>\n",
       "      <td>2.031780</td>\n",
       "      <td>...</td>\n",
       "      <td>NaN</td>\n",
       "      <td>NaN</td>\n",
       "      <td>0.0</td>\n",
       "      <td>NaN</td>\n",
       "      <td>NaN</td>\n",
       "      <td>NaN</td>\n",
       "      <td>1.0</td>\n",
       "      <td>1.0</td>\n",
       "      <td>NaN</td>\n",
       "      <td>2</td>\n",
       "    </tr>\n",
       "    <tr>\n",
       "      <th>3</th>\n",
       "      <td>00EABED2-271D-49D8-B599-1D4A09240601</td>\n",
       "      <td>1444079341</td>\n",
       "      <td>0.996874</td>\n",
       "      <td>0.003541</td>\n",
       "      <td>0.000626</td>\n",
       "      <td>0.006059</td>\n",
       "      <td>0.995050</td>\n",
       "      <td>0.996907</td>\n",
       "      <td>0.998690</td>\n",
       "      <td>1.865318</td>\n",
       "      <td>...</td>\n",
       "      <td>NaN</td>\n",
       "      <td>NaN</td>\n",
       "      <td>0.0</td>\n",
       "      <td>NaN</td>\n",
       "      <td>NaN</td>\n",
       "      <td>NaN</td>\n",
       "      <td>1.0</td>\n",
       "      <td>1.0</td>\n",
       "      <td>NaN</td>\n",
       "      <td>2</td>\n",
       "    </tr>\n",
       "    <tr>\n",
       "      <th>4</th>\n",
       "      <td>00EABED2-271D-49D8-B599-1D4A09240601</td>\n",
       "      <td>1444079431</td>\n",
       "      <td>0.997371</td>\n",
       "      <td>0.037653</td>\n",
       "      <td>0.043389</td>\n",
       "      <td>0.102332</td>\n",
       "      <td>0.995548</td>\n",
       "      <td>0.996860</td>\n",
       "      <td>0.998205</td>\n",
       "      <td>0.460806</td>\n",
       "      <td>...</td>\n",
       "      <td>NaN</td>\n",
       "      <td>NaN</td>\n",
       "      <td>0.0</td>\n",
       "      <td>NaN</td>\n",
       "      <td>NaN</td>\n",
       "      <td>NaN</td>\n",
       "      <td>1.0</td>\n",
       "      <td>1.0</td>\n",
       "      <td>NaN</td>\n",
       "      <td>2</td>\n",
       "    </tr>\n",
       "  </tbody>\n",
       "</table>\n",
       "<p>5 rows × 279 columns</p>\n",
       "</div>"
      ],
      "text/plain": [
       "                                   UUID   timestamp  \\\n",
       "0  00EABED2-271D-49D8-B599-1D4A09240601  1444079161   \n",
       "1  00EABED2-271D-49D8-B599-1D4A09240601  1444079221   \n",
       "2  00EABED2-271D-49D8-B599-1D4A09240601  1444079281   \n",
       "3  00EABED2-271D-49D8-B599-1D4A09240601  1444079341   \n",
       "4  00EABED2-271D-49D8-B599-1D4A09240601  1444079431   \n",
       "\n",
       "   raw_acc:magnitude_stats:mean  raw_acc:magnitude_stats:std  \\\n",
       "0                      0.996815                     0.003529   \n",
       "1                      0.996864                     0.004172   \n",
       "2                      0.996825                     0.003667   \n",
       "3                      0.996874                     0.003541   \n",
       "4                      0.997371                     0.037653   \n",
       "\n",
       "   raw_acc:magnitude_stats:moment3  raw_acc:magnitude_stats:moment4  \\\n",
       "0                        -0.002786                         0.006496   \n",
       "1                        -0.003110                         0.007050   \n",
       "2                         0.003094                         0.006076   \n",
       "3                         0.000626                         0.006059   \n",
       "4                         0.043389                         0.102332   \n",
       "\n",
       "   raw_acc:magnitude_stats:percentile25  raw_acc:magnitude_stats:percentile50  \\\n",
       "0                              0.995203                              0.996825   \n",
       "1                              0.994957                              0.996981   \n",
       "2                              0.994797                              0.996614   \n",
       "3                              0.995050                              0.996907   \n",
       "4                              0.995548                              0.996860   \n",
       "\n",
       "   raw_acc:magnitude_stats:percentile75  \\\n",
       "0                              0.998502   \n",
       "1                              0.998766   \n",
       "2                              0.998704   \n",
       "3                              0.998690   \n",
       "4                              0.998205   \n",
       "\n",
       "   raw_acc:magnitude_stats:value_entropy  ...  label:STAIRS_-_GOING_DOWN  \\\n",
       "0                               1.748756  ...                        NaN   \n",
       "1                               1.935573  ...                        NaN   \n",
       "2                               2.031780  ...                        NaN   \n",
       "3                               1.865318  ...                        NaN   \n",
       "4                               0.460806  ...                        NaN   \n",
       "\n",
       "   label:ELEVATOR  label:OR_standing  label:AT_SCHOOL  label:PHONE_IN_HAND  \\\n",
       "0             NaN                0.0              NaN                  NaN   \n",
       "1             NaN                0.0              NaN                  NaN   \n",
       "2             NaN                0.0              NaN                  NaN   \n",
       "3             NaN                0.0              NaN                  NaN   \n",
       "4             NaN                0.0              NaN                  NaN   \n",
       "\n",
       "   label:PHONE_IN_BAG  label:PHONE_ON_TABLE  label:WITH_CO-WORKERS  \\\n",
       "0                 NaN                   1.0                    1.0   \n",
       "1                 NaN                   1.0                    1.0   \n",
       "2                 NaN                   1.0                    1.0   \n",
       "3                 NaN                   1.0                    1.0   \n",
       "4                 NaN                   1.0                    1.0   \n",
       "\n",
       "   label:WITH_FRIENDS  label_source  \n",
       "0                 NaN             2  \n",
       "1                 NaN             2  \n",
       "2                 NaN             2  \n",
       "3                 NaN             2  \n",
       "4                 NaN             2  \n",
       "\n",
       "[5 rows x 279 columns]"
      ]
     },
     "execution_count": 27,
     "metadata": {},
     "output_type": "execute_result"
    }
   ],
   "source": [
    "#Change the data file directory below appropriately\n",
    "#data = pd.read_csv('../raw_data/FDAA70A1-42A3-4E3F-9AE3-3FDA412E03BF.features_labels.csv')\n",
    "data = pd.read_csv('../aggregated_data/aggregated_data.csv')\n",
    "data.head()"
   ]
  },
  {
   "cell_type": "markdown",
   "metadata": {},
   "source": [
    "## Interpolating acceleration columns with average values"
   ]
  },
  {
   "cell_type": "code",
   "execution_count": 7,
   "metadata": {},
   "outputs": [],
   "source": [
    "def interpolation(df):\n",
    "    col_to_avg = list(df.columns) #Start with keeping all the columns as columns to use an average interpolation on\n",
    "    for k in range(len(list(df.columns))):\n",
    "        if list(df.columns)[k].startswith(('discrete', 'label')): #Remove label and discrete columns from col_to_avg\n",
    "            col_to_avg.remove(list(df.columns)[k])\n",
    "    \n",
    "    df_with_avg = df[col_to_avg].fillna(df[col_to_avg].mean()) #Interpolate nan columns for all continuous-valued columns with average\n",
    "    \n",
    "    col_to_zero = list(df.columns)\n",
    "    for k in range(len(list(df.columns))):\n",
    "        if not list(df.columns)[k].startswith(('discrete', 'label')): #Remove all columns except label and discrete\n",
    "            col_to_zero.remove(list(df.columns)[k])\n",
    "    \n",
    "    df_with_zero = df[col_to_zero].fillna(0) #Interpolate nan values for label and discrete columns with 0\n",
    "    \n",
    "    return pd.concat([df_with_avg, df_with_zero], axis = 1)"
   ]
  },
  {
   "cell_type": "code",
   "execution_count": 103,
   "metadata": {},
   "outputs": [
    {
     "data": {
      "text/plain": [
       "(array([[ 0.996815,  0.003529, -0.002786, ...,  0.10692 ,  0.516842,\n",
       "          0.255494],\n",
       "        [ 0.996864,  0.004172, -0.00311 , ..., -0.079483,  0.357748,\n",
       "          0.036252],\n",
       "        [ 0.996825,  0.003667,  0.003094, ...,  0.122432,  0.464881,\n",
       "          0.222375],\n",
       "        ...,\n",
       "        [ 1.026223,  0.195112,  0.25524 , ..., -0.219706,  0.350897,\n",
       "          0.097009],\n",
       "        [ 1.123513,  0.27345 ,  0.312818, ..., -0.260843, -0.208532,\n",
       "          0.58743 ],\n",
       "        [ 1.020624,  0.135672,  0.104091, ..., -0.131437, -0.004327,\n",
       "         -0.005321]]),\n",
       " array([[1.],\n",
       "        [1.],\n",
       "        [1.],\n",
       "        ...,\n",
       "        [0.],\n",
       "        [0.],\n",
       "        [0.]]))"
      ]
     },
     "execution_count": 103,
     "metadata": {},
     "output_type": "execute_result"
    }
   ],
   "source": [
    "X = data.iloc[:,2:28]\n",
    "#X = data.iloc[:,11:14]\n",
    "y = data[['label:SITTING']]\n",
    "\n",
    "X = interpolation(X).values\n",
    "y = interpolation(y).values\n",
    "\n",
    "X, y"
   ]
  },
  {
   "cell_type": "markdown",
   "metadata": {},
   "source": [
    "## Splitting the data and loading it into a PyTorch dataloader"
   ]
  },
  {
   "cell_type": "code",
   "execution_count": 104,
   "metadata": {},
   "outputs": [],
   "source": [
    "from sklearn.model_selection import train_test_split\n",
    "X_train, X_test, y_train, y_test = train_test_split(X, y, test_size = 0.3, random_state = 1, stratify=y)"
   ]
  },
  {
   "cell_type": "code",
   "execution_count": 105,
   "metadata": {},
   "outputs": [],
   "source": [
    "train_features = torch.tensor(X_train)\n",
    "train_labels = torch.tensor(y_train)\n",
    "test_features = torch.tensor(X_test)\n",
    "test_labels = torch.tensor(y_test)"
   ]
  },
  {
   "cell_type": "code",
   "execution_count": 120,
   "metadata": {},
   "outputs": [
    {
     "name": "stdout",
     "output_type": "stream",
     "text": [
      "Training Volume: 264142\n",
      "Class Ratio for Training: 1.7673626753554255\n",
      "Testing Volume: 113204\n",
      "Class Ratio for Testing: 1.7673503312391523\n"
     ]
    }
   ],
   "source": [
    "print(\"Training Volume: \" + str(len(train_labels)))\n",
    "print(\"Class Ratio for Training: \" + str(np.count_nonzero(train_labels == 0)/np.count_nonzero(train_labels == 1)))\n",
    "print(\"Testing Volume: \" + str(len(test_labels)))\n",
    "print(\"Class Ratio for Testing: \" + str(np.count_nonzero(test_labels == 0)/np.count_nonzero(test_labels == 1)))\n",
    "\n",
    "train_features_G = train_features.to(device)\n",
    "train_labels_G = train_labels.to(device)\n",
    "test_features_G = test_features.to(device)\n",
    "test_labels_G = test_labels.to(device)\n",
    "\n",
    "train_data = torch.utils.data.TensorDataset(train_features, train_labels)\n",
    "test_data = torch.utils.data.TensorDataset(test_features, test_labels)\n",
    "\n",
    "\n",
    "train_loader = torch.utils.data.DataLoader(train_data, batch_size = 10000, shuffle = True)\n",
    "test_loader = torch.utils.data.DataLoader(test_data, batch_size = 10000, shuffle = True)"
   ]
  },
  {
   "cell_type": "markdown",
   "metadata": {},
   "source": [
    "## Network"
   ]
  },
  {
   "cell_type": "code",
   "execution_count": 115,
   "metadata": {},
   "outputs": [],
   "source": [
    "class Classifier(nn.Module):\n",
    "    def __init__(self, input_layer, output_layer):\n",
    "        super(Classifier, self).__init__()\n",
    "        self.fc1 = nn.Linear(input_layer, 40)\n",
    "        self.fc2 = nn.Linear(40, 40)\n",
    "        self.fc3 = nn.Linear(40, 40)\n",
    "        self.fc4 = nn.Linear(40, 40)\n",
    "        self.fc5 = nn.Linear(40, 1)\n",
    "        self.dropout = nn.Dropout(0.1)\n",
    "    def forward(self, x):\n",
    "        x = F.relu(self.fc1(x))\n",
    "        x = self.dropout(x)\n",
    "        x = F.relu(self.fc2(x))\n",
    "        x = self.dropout(x)\n",
    "        x = F.relu(self.fc3(x))\n",
    "        x = self.dropout(x)\n",
    "        x = F.relu(self.fc4(x))\n",
    "        x = torch.sigmoid(self.fc5(x))\n",
    "        return x"
   ]
  },
  {
   "cell_type": "code",
   "execution_count": 111,
   "metadata": {},
   "outputs": [
    {
     "data": {
      "text/plain": [
       "Classifier(\n",
       "  (fc1): Linear(in_features=26, out_features=40, bias=True)\n",
       "  (fc2): Linear(in_features=40, out_features=40, bias=True)\n",
       "  (fc3): Linear(in_features=40, out_features=40, bias=True)\n",
       "  (fc4): Linear(in_features=40, out_features=40, bias=True)\n",
       "  (fc5): Linear(in_features=40, out_features=1, bias=True)\n",
       "  (dropout): Dropout(p=0.1, inplace=False)\n",
       ")"
      ]
     },
     "execution_count": 111,
     "metadata": {},
     "output_type": "execute_result"
    }
   ],
   "source": [
    "input_layer = train_features.shape[1]\n",
    "output_layer = 1\n",
    "\n",
    "model = Classifier(input_layer, output_layer)\n",
    "model.to(torch.device(\"cuda:0\"))"
   ]
  },
  {
   "cell_type": "code",
   "execution_count": 125,
   "metadata": {},
   "outputs": [
    {
     "data": {
      "text/plain": [
       "tensor([[ 4.4681e-03,  7.2831e-05,  1.5843e-04,  ..., -4.3800e-04,\n",
       "         -4.0354e-04,  1.3172e-03],\n",
       "        [ 0.0000e+00,  0.0000e+00,  0.0000e+00,  ...,  0.0000e+00,\n",
       "          0.0000e+00,  0.0000e+00],\n",
       "        [ 2.7516e-03,  5.3871e-06, -3.1786e-06,  ..., -5.6046e-04,\n",
       "          9.8493e-05,  6.7314e-05],\n",
       "        ...,\n",
       "        [-9.0054e-04, -1.6013e-06, -3.5956e-06,  ...,  2.4573e-04,\n",
       "         -3.3159e-04, -1.3083e-04],\n",
       "        [ 0.0000e+00,  0.0000e+00,  0.0000e+00,  ...,  0.0000e+00,\n",
       "          0.0000e+00,  0.0000e+00],\n",
       "        [ 1.2042e-02,  1.2718e-05, -1.0119e-05,  ..., -1.3311e-04,\n",
       "          3.8012e-04,  7.7079e-04]], device='cuda:0')"
      ]
     },
     "execution_count": 125,
     "metadata": {},
     "output_type": "execute_result"
    }
   ],
   "source": []
  },
  {
   "cell_type": "code",
   "execution_count": 116,
   "metadata": {},
   "outputs": [],
   "source": [
    "criterion = nn.MSELoss()\n",
    "optimizer = optim.Adam(model.parameters(), lr = 0.001)"
   ]
  },
  {
   "cell_type": "markdown",
   "metadata": {},
   "source": [
    "## Training loop"
   ]
  },
  {
   "cell_type": "code",
   "execution_count": 121,
   "metadata": {},
   "outputs": [
    {
     "name": "stdout",
     "output_type": "stream",
     "text": [
      "Epoch: 1 | Last Batch Loss: 0.1936998963356018\n",
      "Epoch: 2 | Last Batch Loss: 0.19293715059757233\n",
      "Epoch: 3 | Last Batch Loss: 0.18599991500377655\n",
      "Epoch: 4 | Last Batch Loss: 0.1920299530029297\n",
      "Epoch: 5 | Last Batch Loss: 0.190599724650383\n",
      "Epoch: 6 | Last Batch Loss: 0.18994182348251343\n",
      "Epoch: 7 | Last Batch Loss: 0.18643850088119507\n",
      "Epoch: 8 | Last Batch Loss: 0.19248540699481964\n",
      "Epoch: 9 | Last Batch Loss: 0.1897750049829483\n",
      "Epoch: 10 | Last Batch Loss: 0.1930583119392395\n",
      "Epoch: 11 | Last Batch Loss: 0.19188250601291656\n",
      "Epoch: 12 | Last Batch Loss: 0.18714973330497742\n",
      "Epoch: 13 | Last Batch Loss: 0.1843656748533249\n",
      "Epoch: 14 | Last Batch Loss: 0.1913478672504425\n",
      "Epoch: 15 | Last Batch Loss: 0.1892034262418747\n",
      "Epoch: 16 | Last Batch Loss: 0.18791563808918\n",
      "Epoch: 17 | Last Batch Loss: 0.1856926530599594\n",
      "Epoch: 18 | Last Batch Loss: 0.19292697310447693\n",
      "Epoch: 19 | Last Batch Loss: 0.18942265212535858\n",
      "Epoch: 20 | Last Batch Loss: 0.19267410039901733\n",
      "Epoch: 21 | Last Batch Loss: 0.18952015042304993\n",
      "Epoch: 22 | Last Batch Loss: 0.1884867250919342\n",
      "Epoch: 23 | Last Batch Loss: 0.18804596364498138\n",
      "Epoch: 24 | Last Batch Loss: 0.1864733248949051\n",
      "Epoch: 25 | Last Batch Loss: 0.1933010220527649\n",
      "Epoch: 26 | Last Batch Loss: 0.18539059162139893\n",
      "Epoch: 27 | Last Batch Loss: 0.18829478323459625\n",
      "Epoch: 28 | Last Batch Loss: 0.19064901769161224\n",
      "Epoch: 29 | Last Batch Loss: 0.19330915808677673\n",
      "Epoch: 30 | Last Batch Loss: 0.19206835329532623\n",
      "Epoch: 31 | Last Batch Loss: 0.19247601926326752\n",
      "Epoch: 32 | Last Batch Loss: 0.19007845222949982\n",
      "Epoch: 33 | Last Batch Loss: 0.18821047246456146\n",
      "Epoch: 34 | Last Batch Loss: 0.1846582591533661\n",
      "Epoch: 35 | Last Batch Loss: 0.19150736927986145\n",
      "Epoch: 36 | Last Batch Loss: 0.18676814436912537\n",
      "Epoch: 37 | Last Batch Loss: 0.18612432479858398\n",
      "Epoch: 38 | Last Batch Loss: 0.19124852120876312\n",
      "Epoch: 39 | Last Batch Loss: 0.1917518675327301\n",
      "Epoch: 40 | Last Batch Loss: 0.1859508454799652\n",
      "Epoch: 41 | Last Batch Loss: 0.1859132945537567\n",
      "Epoch: 42 | Last Batch Loss: 0.19078142940998077\n",
      "Epoch: 43 | Last Batch Loss: 0.19255538284778595\n",
      "Epoch: 44 | Last Batch Loss: 0.19307748973369598\n",
      "Epoch: 45 | Last Batch Loss: 0.18873673677444458\n",
      "Epoch: 46 | Last Batch Loss: 0.18567270040512085\n",
      "Epoch: 47 | Last Batch Loss: 0.18500611186027527\n",
      "Epoch: 48 | Last Batch Loss: 0.19000019133090973\n",
      "Epoch: 49 | Last Batch Loss: 0.19338133931159973\n",
      "Epoch: 50 | Last Batch Loss: 0.1923399567604065\n",
      "Epoch: 51 | Last Batch Loss: 0.1856231540441513\n",
      "Epoch: 52 | Last Batch Loss: 0.1896127164363861\n",
      "Epoch: 53 | Last Batch Loss: 0.19357049465179443\n",
      "Epoch: 54 | Last Batch Loss: 0.19000132381916046\n",
      "Epoch: 55 | Last Batch Loss: 0.19370625913143158\n",
      "Epoch: 56 | Last Batch Loss: 0.18787261843681335\n",
      "Epoch: 57 | Last Batch Loss: 0.1891530305147171\n",
      "Epoch: 58 | Last Batch Loss: 0.18885330855846405\n",
      "Epoch: 59 | Last Batch Loss: 0.18977943062782288\n",
      "Epoch: 60 | Last Batch Loss: 0.18872886896133423\n",
      "Epoch: 61 | Last Batch Loss: 0.1879381537437439\n",
      "Epoch: 62 | Last Batch Loss: 0.1912883073091507\n",
      "Epoch: 63 | Last Batch Loss: 0.19550539553165436\n",
      "Epoch: 64 | Last Batch Loss: 0.19054950773715973\n",
      "Epoch: 65 | Last Batch Loss: 0.19022487103939056\n",
      "Epoch: 66 | Last Batch Loss: 0.1881994903087616\n",
      "Epoch: 67 | Last Batch Loss: 0.19159498810768127\n",
      "Epoch: 68 | Last Batch Loss: 0.18628759682178497\n",
      "Epoch: 69 | Last Batch Loss: 0.18841184675693512\n",
      "Epoch: 70 | Last Batch Loss: 0.1908111572265625\n",
      "Epoch: 71 | Last Batch Loss: 0.1872587502002716\n",
      "Epoch: 72 | Last Batch Loss: 0.18525004386901855\n",
      "Epoch: 73 | Last Batch Loss: 0.1900615394115448\n",
      "Epoch: 74 | Last Batch Loss: 0.1910005509853363\n",
      "Epoch: 75 | Last Batch Loss: 0.1847119927406311\n",
      "Epoch: 76 | Last Batch Loss: 0.19102716445922852\n",
      "Epoch: 77 | Last Batch Loss: 0.18728403747081757\n",
      "Epoch: 78 | Last Batch Loss: 0.19117571413516998\n",
      "Epoch: 79 | Last Batch Loss: 0.18715451657772064\n",
      "Epoch: 80 | Last Batch Loss: 0.18949191272258759\n",
      "Epoch: 81 | Last Batch Loss: 0.18204966187477112\n",
      "Epoch: 82 | Last Batch Loss: 0.19244708120822906\n",
      "Epoch: 83 | Last Batch Loss: 0.1905457228422165\n",
      "Epoch: 84 | Last Batch Loss: 0.19256101548671722\n",
      "Epoch: 85 | Last Batch Loss: 0.1923455148935318\n",
      "Epoch: 86 | Last Batch Loss: 0.18657317757606506\n",
      "Epoch: 87 | Last Batch Loss: 0.18116973340511322\n",
      "Epoch: 88 | Last Batch Loss: 0.1868797242641449\n",
      "Epoch: 89 | Last Batch Loss: 0.1863788664340973\n",
      "Epoch: 90 | Last Batch Loss: 0.1858207732439041\n",
      "Epoch: 91 | Last Batch Loss: 0.18690238893032074\n",
      "Epoch: 92 | Last Batch Loss: 0.1874522566795349\n",
      "Epoch: 93 | Last Batch Loss: 0.18559665977954865\n",
      "Epoch: 94 | Last Batch Loss: 0.19391191005706787\n",
      "Epoch: 95 | Last Batch Loss: 0.1871892362833023\n",
      "Epoch: 96 | Last Batch Loss: 0.18761512637138367\n",
      "Epoch: 97 | Last Batch Loss: 0.18899790942668915\n",
      "Epoch: 98 | Last Batch Loss: 0.1921754628419876\n",
      "Epoch: 99 | Last Batch Loss: 0.1900421380996704\n",
      "Epoch: 100 | Last Batch Loss: 0.1882530003786087\n"
     ]
    }
   ],
   "source": [
    "epochs = 100\n",
    "#wandb.init()\n",
    "#wandb.watch(model)\n",
    "for epoch in range(epochs):\n",
    "    total_loss = 0\n",
    "    for batch in train_loader:\n",
    "        features, labels = batch\n",
    "        features = features.to(device)\n",
    "        labels = labels.to(device)\n",
    "        y_preds = model(features.float())\n",
    "        loss = criterion(y_preds, labels.float())\n",
    "        \n",
    "        optimizer.zero_grad()\n",
    "        loss.backward()\n",
    "        optimizer.step()\n",
    "        total_loss += loss.item()\n",
    "        \n",
    "    print(f'Epoch: {epoch + 1} | Last Batch Loss: {loss.item()}')\n",
    "    #wandb.log({'Train Loss': loss.item()/total_loss})"
   ]
  },
  {
   "cell_type": "markdown",
   "metadata": {},
   "source": [
    "## Evaluating the model"
   ]
  },
  {
   "cell_type": "code",
   "execution_count": 122,
   "metadata": {},
   "outputs": [
    {
     "name": "stdout",
     "output_type": "stream",
     "text": [
      "Classification Accuracy: 70.72\n",
      "Precision: 0.61\n",
      "Recall: 0.52\n",
      "F-1 Score: 0.56\n"
     ]
    }
   ],
   "source": [
    "total_wrong = 0\n",
    "positive_preds = 0 #tp + fp\n",
    "true_positives = 0\n",
    "false_negatives = 0\n",
    "\n",
    "with torch.no_grad():\n",
    "    for X_test_data, y_test in test_loader:\n",
    "        y_test_preds = model(X_test_data.float().to(device))\n",
    "        y_test_preds = torch.round(y_test_preds)\n",
    "\n",
    "        for k in range(len(y_test_preds)):\n",
    "            if y_test_preds[k].item() == 1:\n",
    "                positive_preds += 1\n",
    "            if y_test_preds[k].item() == y_test[k].item() == 1:\n",
    "                true_positives += 1\n",
    "            if y_test_preds[k].item() == 0 and y_test[k].item() == 1:\n",
    "                false_negatives += 1\n",
    "\n",
    "        current_wrong = (abs(y_test_preds - y_test.to(device))).sum().item()\n",
    "        total_wrong += current_wrong\n",
    "\n",
    "    class_acc = (len(X_test) - total_wrong) / len(X_test) * 100\n",
    "    if positive_preds == 0:\n",
    "        precision = true_positives / positive_preds + 0.001\n",
    "    else:\n",
    "        precision = true_positives / positive_preds\n",
    "    recall = true_positives / (true_positives + false_negatives)\n",
    "\n",
    "    print(f'Classification Accuracy: {class_acc:.2f}')\n",
    "    print(f'Precision: {precision:.2f}') #What percentage of a model's positive predictions were actually positive\n",
    "    print(f'Recall: {recall:.2f}') #What percent of the true positives were identified\n",
    "    print(f'F-1 Score: {2*(precision * recall / (precision + recall)):.2f}')"
   ]
  },
  {
   "cell_type": "code",
   "execution_count": 149,
   "metadata": {},
   "outputs": [
    {
     "data": {
      "image/png": "[encoded data removed]",
      "text/plain": [
       "<Figure size 432x288 with 2 Axes>"
      ]
     },
     "metadata": {
      "needs_background": "light"
     },
     "output_type": "display_data"
    },
    {
     "data": {
      "image/png": "[encoded data removed]",
      "text/plain": [
       "<Figure size 432x288 with 2 Axes>"
      ]
     },
     "metadata": {
      "needs_background": "light"
     },
     "output_type": "display_data"
    },
    {
     "data": {
      "image/png": "[encoded data removed]",
      "text/plain": [
       "<Figure size 432x288 with 2 Axes>"
      ]
     },
     "metadata": {
      "needs_background": "light"
     },
     "output_type": "display_data"
    },
    {
     "data": {
      "image/png": "[encoded data removed]",
      "text/plain": [
       "<Figure size 432x288 with 2 Axes>"
      ]
     },
     "metadata": {
      "needs_background": "light"
     },
     "output_type": "display_data"
    },
    {
     "data": {
      "image/png": "[encoded data removed]",
      "text/plain": [
       "<Figure size 432x288 with 2 Axes>"
      ]
     },
     "metadata": {
      "needs_background": "light"
     },
     "output_type": "display_data"
    }
   ],
   "source": [
    "#Layer 1\n",
    "w_img = model.fc1.weight\n",
    "wmin = torch.min(w_img)\n",
    "wmax = torch.max(w_img)\n",
    "w_img = w_img.cpu()\n",
    "w_img = w_img.detach().numpy()\n",
    "#w_img = w_img.reshape(26, 40)\n",
    "c = plt.imshow(w_img, cmap ='Blues', vmin = wmin , vmax = wmax,\n",
    "                    interpolation ='nearest', origin ='upper')\n",
    "plt.colorbar(c)\n",
    "plt.title('Layer 1 Weights (e = 0.001, T = 100)', fontweight =\"bold\")\n",
    "plt.show()\n",
    "\n",
    "#layer 2\n",
    "w_img = model.fc2.weight\n",
    "wmin = torch.min(w_img)\n",
    "wmax = torch.max(w_img)\n",
    "w_img = w_img.cpu()\n",
    "w_img = w_img.detach().numpy()\n",
    "#w_img = w_img.reshape(26, 40)\n",
    "c = plt.imshow(w_img, cmap ='Blues', vmin = wmin , vmax = wmax,\n",
    "                    interpolation ='nearest', origin ='upper')\n",
    "plt.colorbar(c)\n",
    "plt.title('Layer 2 Weights (e = 0.001, T = 100)', fontweight =\"bold\")\n",
    "plt.show()\n",
    "\n",
    "#Layer 3\n",
    "w_img = model.fc3.weight\n",
    "wmin = torch.min(w_img)\n",
    "wmax = torch.max(w_img)\n",
    "w_img = w_img.cpu()\n",
    "w_img = w_img.detach().numpy()\n",
    "#w_img = w_img.reshape(26, 40)\n",
    "c = plt.imshow(w_img, cmap ='Blues', vmin = wmin , vmax = wmax,\n",
    "                    interpolation ='nearest', origin ='upper')\n",
    "plt.colorbar(c)\n",
    "plt.title('Layer 3 Weights (e = 0.001, T = 100)', fontweight =\"bold\")\n",
    "plt.show()\n",
    "\n",
    "#Layer 4\n",
    "w_img = model.fc4.weight\n",
    "wmin = torch.min(w_img)\n",
    "wmax = torch.max(w_img)\n",
    "w_img = w_img.cpu()\n",
    "w_img = w_img.detach().numpy()\n",
    "#w_img = w_img.reshape(26, 40)\n",
    "c = plt.imshow(w_img, cmap ='Blues', vmin = wmin , vmax = wmax,\n",
    "                    interpolation ='nearest', origin ='upper')\n",
    "plt.colorbar(c)\n",
    "plt.title('Layer 4 Weights (e = 0.001, T = 100)', fontweight =\"bold\")\n",
    "plt.show()\n",
    "\n",
    "\n",
    "#Layer 5\n",
    "w_img = model.fc5.weight\n",
    "wmin = torch.min(w_img)\n",
    "wmax = torch.max(w_img)\n",
    "w_img = w_img.cpu()\n",
    "w_img = w_img.detach().numpy()\n",
    "#w_img = w_img.reshape(26, 40)\n",
    "c = plt.imshow(w_img, cmap ='Blues', vmin = wmin , vmax = wmax,\n",
    "                    interpolation ='nearest', origin ='upper')\n",
    "plt.colorbar(c)\n",
    "plt.title('Layer 5 Weights (e = 0.001, T = 100)', fontweight =\"bold\")\n",
    "plt.show()"
   ]
  },
  {
   "cell_type": "code",
   "execution_count": null,
   "metadata": {},
   "outputs": [],
   "source": []
  }
 ],
 "metadata": {
  "kernelspec": {
   "display_name": "Python 3",
   "language": "python",
   "name": "python3"
  },
  "language_info": {
   "codemirror_mode": {
    "name": "ipython",
    "version": 3
   },
   "file_extension": ".py",
   "mimetype": "text/x-python",
   "name": "python",
   "nbconvert_exporter": "python",
   "pygments_lexer": "ipython3",
   "version": "3.8.8"
  }
 },
 "nbformat": 4,
 "nbformat_minor": 4
}
