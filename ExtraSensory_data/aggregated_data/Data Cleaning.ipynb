{
 "cells": [
  {
   "cell_type": "code",
   "execution_count": 1,
   "id": "6dc1e8d7",
   "metadata": {},
   "outputs": [],
   "source": [
    "import pandas as pd"
   ]
  },
  {
   "cell_type": "code",
   "execution_count": 6,
   "id": "9536a02a",
   "metadata": {},
   "outputs": [
    {
     "name": "stdout",
     "output_type": "stream",
     "text": [
      "(0, UUID                               00EABED2-271D-49D8-B599-1D4A09240601\n",
      "timestamp                                                    1444079161\n",
      "raw_acc:magnitude_stats:mean                                   0.996815\n",
      "raw_acc:magnitude_stats:std                                    0.003529\n",
      "raw_acc:magnitude_stats:moment3                               -0.002786\n",
      "                                                   ...                 \n",
      "label:PHONE_IN_BAG                                                  NaN\n",
      "label:PHONE_ON_TABLE                                                1.0\n",
      "label:WITH_CO-WORKERS                                               1.0\n",
      "label:WITH_FRIENDS                                                  NaN\n",
      "label_source                                                          2\n",
      "Name: 0, Length: 279, dtype: object)\n"
     ]
    },
    {
     "ename": "TypeError",
     "evalue": "tuple indices must be integers or slices, not str",
     "output_type": "error",
     "traceback": [
      "\u001b[1;31m---------------------------------------------------------------------------\u001b[0m",
      "\u001b[1;31mTypeError\u001b[0m                                 Traceback (most recent call last)",
      "\u001b[1;32m<ipython-input-6-b23f4def5c0d>\u001b[0m in \u001b[0;36m<module>\u001b[1;34m\u001b[0m\n\u001b[0;32m     13\u001b[0m     \u001b[0mprint\u001b[0m\u001b[1;33m(\u001b[0m\u001b[0mrow\u001b[0m\u001b[1;33m)\u001b[0m\u001b[1;33m\u001b[0m\u001b[1;33m\u001b[0m\u001b[0m\n\u001b[0;32m     14\u001b[0m     \u001b[1;32mfor\u001b[0m \u001b[0mindex\u001b[0m\u001b[1;33m,\u001b[0m \u001b[0mlabel\u001b[0m \u001b[1;32min\u001b[0m \u001b[0menumerate\u001b[0m\u001b[1;33m(\u001b[0m\u001b[0mlabeled_cols\u001b[0m\u001b[1;33m)\u001b[0m\u001b[1;33m:\u001b[0m\u001b[1;33m\u001b[0m\u001b[1;33m\u001b[0m\u001b[0m\n\u001b[1;32m---> 15\u001b[1;33m         \u001b[1;32mif\u001b[0m \u001b[0mpd\u001b[0m\u001b[1;33m.\u001b[0m\u001b[0misna\u001b[0m\u001b[1;33m(\u001b[0m\u001b[0mrow\u001b[0m\u001b[1;33m[\u001b[0m\u001b[0mlabel\u001b[0m\u001b[1;33m]\u001b[0m\u001b[1;33m)\u001b[0m\u001b[1;33m:\u001b[0m\u001b[1;33m\u001b[0m\u001b[1;33m\u001b[0m\u001b[0m\n\u001b[0m\u001b[0;32m     16\u001b[0m             \u001b[1;31m#print(str(row['UUID']) + \" at time \" + str(row['timestamp']) + \" for \" + str(label) + \" is NaN\")\u001b[0m\u001b[1;33m\u001b[0m\u001b[1;33m\u001b[0m\u001b[1;33m\u001b[0m\u001b[0m\n\u001b[0;32m     17\u001b[0m             \u001b[0mrow\u001b[0m\u001b[1;33m[\u001b[0m\u001b[0mlabel\u001b[0m\u001b[1;33m]\u001b[0m \u001b[1;33m=\u001b[0m \u001b[1;36m0\u001b[0m\u001b[1;33m\u001b[0m\u001b[1;33m\u001b[0m\u001b[0m\n",
      "\u001b[1;31mTypeError\u001b[0m: tuple indices must be integers or slices, not str"
     ]
    }
   ],
   "source": [
    "#Read from file\n",
    "file_name = \"aggregated_data.csv\"\n",
    "\n",
    "df = pd.read_csv(file_name)\n",
    "\n",
    "#df.head()    "
   ]
  },
  {
   "cell_type": "code",
   "execution_count": 25,
   "id": "6c9b05cb",
   "metadata": {},
   "outputs": [
    {
     "name": "stdout",
     "output_type": "stream",
     "text": [
      "LYING_DOWN104210\n",
      "SITTING136356\n",
      "FIX_walking22136\n",
      "FIX_running1090\n",
      "BICYCLING5020\n",
      "SLEEPING83055\n",
      "LAB_WORK3848\n",
      "IN_CLASS6110\n",
      "IN_A_MEETING5153\n",
      "LOC_main_workplace33944\n",
      "OR_indoors184692\n",
      "OR_outside12114\n",
      "IN_A_CAR6083\n",
      "ON_A_BUS1794\n",
      "DRIVE_-_I_M_THE_DRIVER7975\n",
      "DRIVE_-_I_M_A_PASSENGER2526\n",
      "LOC_home152892\n",
      "FIX_restaurant2098\n",
      "PHONE_IN_POCKET23401\n",
      "OR_exercise8081\n",
      "COOKING4029\n",
      "SHOPPING1841\n",
      "STROLLING806\n",
      "DRINKING__ALCOHOL_1456\n",
      "BATHING_-_SHOWER2087\n",
      "CLEANING3806\n",
      "DOING_LAUNDRY556\n",
      "WASHING_DISHES1228\n",
      "WATCHING_TV13311\n",
      "SURFING_THE_INTERNET19416\n",
      "AT_A_PARTY1470\n",
      "AT_A_BAR551\n",
      "LOC_beach585\n",
      "SINGING651\n",
      "TALKING36293\n",
      "COMPUTER_WORK38081\n",
      "EATING16594\n",
      "TOILET2655\n",
      "GROOMING3064\n",
      "DRESSING2233\n",
      "AT_THE_GYM1151\n",
      "STAIRS_-_GOING_UP798\n",
      "STAIRS_-_GOING_DOWN774\n",
      "ELEVATOR200\n",
      "OR_standing37782\n",
      "AT_SCHOOL42331\n",
      "PHONE_IN_HAND14573\n",
      "PHONE_IN_BAG10201\n",
      "PHONE_ON_TABLE115037\n",
      "WITH_CO-WORKERS6224\n",
      "WITH_FRIENDS24737\n"
     ]
    }
   ],
   "source": [
    "#Count frequency of labels, remove NAN labels\n",
    "label_cols = [col for col in df.columns if 'label:' in col]\n",
    "label_ind = [df.columns.get_loc(c) for c in label_cols]\n",
    "#print(label_cols)\n",
    "#print(label_ind)\n",
    "freq = [0] * len(labeled_cols)\n",
    "\n",
    "for row in df.iterrows():\n",
    "    for index, label in enumerate(labeled_cols):\n",
    "        if pd.isna(row[1][df.columns.get_loc(label)]):\n",
    "            #print(str(row['UUID']) + \" at time \" + str(row['timestamp']) + \" for \" + str(label) + \" is NaN\")\n",
    "            row[1][df.columns.get_loc(label)] = 0\n",
    "        elif row[1][df.columns.get_loc(label)] == 1:\n",
    "            freq[index] +=1\n",
    "            \n",
    "for i, col in enumerate(label_cols):\n",
    "    print(col.split(\":\")[1] + \" \" + str(freq[i]))"
   ]
  },
  {
   "cell_type": "code",
   "execution_count": null,
   "id": "00ab2b77",
   "metadata": {},
   "outputs": [],
   "source": []
  },
  {
   "cell_type": "code",
   "execution_count": null,
   "id": "51d8b647",
   "metadata": {},
   "outputs": [],
   "source": []
  }
 ],
 "metadata": {
  "kernelspec": {
   "display_name": "Python 3",
   "language": "python",
   "name": "python3"
  },
  "language_info": {
   "codemirror_mode": {
    "name": "ipython",
    "version": 3
   },
   "file_extension": ".py",
   "mimetype": "text/x-python",
   "name": "python",
   "nbconvert_exporter": "python",
   "pygments_lexer": "ipython3",
   "version": "3.8.8"
  }
 },
 "nbformat": 4,
 "nbformat_minor": 5
}
